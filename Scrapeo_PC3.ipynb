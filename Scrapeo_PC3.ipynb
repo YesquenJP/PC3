{
 "cells": [
  {
   "cell_type": "markdown",
   "metadata": {},
   "source": [
    "# Scrapeo PC3"
   ]
  },
  {
   "cell_type": "code",
   "execution_count": 9,
   "metadata": {},
   "outputs": [],
   "source": [
    "import requests\n",
    "pagina = 1\n",
    "url_base = \"https://www.gob.pe/institucion/presidencia/noticias?filter%5Bterms%5D=&amp;filter%5Btype%5D=&amp;sheet=\""
   ]
  },
  {
   "cell_type": "code",
   "execution_count": 10,
   "metadata": {},
   "outputs": [],
   "source": [
    "respuesta = requests.get(url_base + str(pagina))"
   ]
  },
  {
   "cell_type": "code",
   "execution_count": 11,
   "metadata": {},
   "outputs": [],
   "source": [
    "from bs4 import BeautifulSoup"
   ]
  },
  {
   "cell_type": "code",
   "execution_count": 12,
   "metadata": {},
   "outputs": [],
   "source": [
    "def obtiene_links(page):\n",
    "    response = requests.get(url_base + str(page))\n",
    "    sopa = BeautifulSoup(response.text)\n",
    "    anchors = []\n",
    "    if sopa is not None: #si la lista no es vacia\n",
    "        anchors = sopa.find_all(\"a\",{\"class\":\"text-primary track-ga-click card__mock hover:no-underline\"})\n",
    "    hrefs = [\"https://www.gob.pe\" + a[\"href\"] for a in anchors]\n",
    "    return hrefs"
   ]
  },
  {
   "cell_type": "code",
   "execution_count": 13,
   "metadata": {},
   "outputs": [
    {
     "data": {
      "text/plain": [
       "['https://www.gob.pe/institucion/presidencia/noticias/586655-presidente-castillo-jamas-renunciare-a-la-tarea-que-me-ha-encomendado-el-pais-y-seguire-trabajando-con-total-fortaleza',\n",
       " 'https://www.gob.pe/institucion/presidencia/noticias/582835-presidente-castillo-declararemos-en-emergencia-distrito-de-jose-leonardo-ortiz-en-lambayeque',\n",
       " 'https://www.gob.pe/institucion/presidencia/noticias/582493-presidente-castillo-prioridades-de-las-regiones-estaran-en-la-politica-del-gobierno-que-se-expondra-ante-el-congreso',\n",
       " 'https://www.gob.pe/institucion/presidencia/noticias/580877-presidente-castillo-toma-juramento-al-nuevo-gabinete-ministerial',\n",
       " 'https://www.gob.pe/institucion/presidencia/noticias/586655-presidente-castillo-jamas-renunciare-a-la-tarea-que-me-ha-encomendado-el-pais-y-seguire-trabajando-con-total-fortaleza',\n",
       " 'https://www.gob.pe/institucion/presidencia/noticias/586638-comunicado-de-prensa',\n",
       " 'https://www.gob.pe/institucion/presidencia/noticias/586636-presidente-castillo-rescatamos-los-recursos-naturales-del-pais-para-todos-los-peruanos-en-el-marco-de-la-segunda-reforma-agraria',\n",
       " 'https://www.gob.pe/institucion/presidencia/noticias/586591-presidente-castillo-pide-activar-la-carta-democratica-de-la-oea-para-dar-tranquilidad-al-pais-y-respetar-el-mandato-del-pueblo',\n",
       " 'https://www.gob.pe/institucion/presidencia/noticias/586576-presidente-castillo-en-madre-de-dios-trabajamos-por-el-pais-con-transparencia-y-lealtad-al-pueblo',\n",
       " 'https://www.gob.pe/institucion/presidencia/noticias/586534-presidente-castillo-no-permitiremos-ni-protegeremos-a-quienes-cometan-actos-de-corrupcion',\n",
       " 'https://www.gob.pe/institucion/presidencia/noticias/586322-presidente-castillo-anuncia-plan-de-titulacion-masiva-que-formalizara-mas-de-100-mil-propiedades-este-ano',\n",
       " 'https://www.gob.pe/institucion/presidencia/noticias/586194-presidente-castillo-ejercemos-rol-promotor-de-inversiones-para-seguir-impulsando-grandes-proyectos-de-infraestructura',\n",
       " 'https://www.gob.pe/institucion/presidencia/noticias/586059-presidente-castillo-logramos-nuevo-record-historico-en-exportaciones-al-sobrepasar-los-56-mil-millones-el-2021',\n",
       " 'https://www.gob.pe/institucion/presidencia/noticias/585725-consejo-de-ministros-evalua-temas-referidos-a-la-seguridad-ciudadana-y-a-la-lucha-contra-la-pandemia',\n",
       " 'https://www.gob.pe/institucion/presidencia/noticias/585587-presidente-castillo-convoca-a-alcaldes-a-realizar-una-cruzada-mas-fuerte-y-cohesionada-en-la-lucha-contra-la-delincuencia',\n",
       " 'https://www.gob.pe/institucion/presidencia/noticias/585527-presidente-castillo-gobierno-responde-al-clamor-del-pueblo-y-esta-al-frente-para-que-el-gas-natural-llegue-a-todos-los-rincones-del-pais',\n",
       " 'https://www.gob.pe/institucion/presidencia/noticias/585485-presidente-castillo-es-necesario-abrir-las-fronteras-para-enfrentar-problemas-comunes-en-la-region',\n",
       " 'https://www.gob.pe/institucion/presidencia/noticias/585399-presidente-castillo-inyectaremos-presupuesto-para-ejecutar-obras-en-todo-el-pais-y-generar-puestos-de-empleo',\n",
       " 'https://www.gob.pe/institucion/presidencia/noticias/585143-tabletas-digitales-llegaran-hasta-los-lugares-mas-alejados-del-pais-para-retorno-a-clases-afirma-presidente-castillo']"
      ]
     },
     "execution_count": 13,
     "metadata": {},
     "output_type": "execute_result"
    }
   ],
   "source": [
    "obtiene_links(1) # links de la pagina 1, en total 19"
   ]
  },
  {
   "cell_type": "code",
   "execution_count": 14,
   "metadata": {},
   "outputs": [],
   "source": [
    "TODOS_los_links = []\n",
    "for pg in range(10):\n",
    "    TODOS_los_links.extend(obtiene_links(pg))"
   ]
  },
  {
   "cell_type": "code",
   "execution_count": 15,
   "metadata": {},
   "outputs": [
    {
     "data": {
      "text/plain": [
       "'https://www.gob.pe/institucion/presidencia/noticias/586655-presidente-castillo-jamas-renunciare-a-la-tarea-que-me-ha-encomendado-el-pais-y-seguire-trabajando-con-total-fortaleza'"
      ]
     },
     "execution_count": 15,
     "metadata": {},
     "output_type": "execute_result"
    }
   ],
   "source": [
    "respuesta_articulo = requests.get(TODOS_los_links[0])\n",
    "respuesta_articulo\n",
    "TODOS_los_links[4]"
   ]
  },
  {
   "cell_type": "code",
   "execution_count": 16,
   "metadata": {},
   "outputs": [
    {
     "name": "stdout",
     "output_type": "stream",
     "text": [
      "Presidente Castillo: jamÃ¡s renunciarÃ© a la tarea que me ha encomendado el paÃ­s y seguirÃ© trabajando con total fortalezaNota de Prensaâ¢\tMandatario pidiÃ³ a aquellos sectores que buscan su salida del Gobierno renunciar al hostigamiento y que lo dejen trabajar.Fotos: PRENSAPRENSA27 de febrero de 2022 -  9:47 p. m.Â·Â  Â  Â  Â  Jefe del Estado demandÃ³ a la fiscalÃ­a realizar una investigaciÃ³n objetiva y a la brevedad, porque el paÃ­s necesita conocer la verdad.\n",
      "Â \n",
      "Lima, 27 de febrero de 2022.- El presidente de la RepÃºblica, Pedro Castillo, asegurÃ³ hoy que jamÃ¡s renunciarÃ¡ a la tarea que le ha encomendado el paÃ­s y que, mÃ¡s bien, seguirÃ¡ trabajando con toda la fortaleza para sacar adelante a los peruanos.Â El mandatario pidiÃ³ a aquellos sectores minoritarios que impulsan su salida del Gobierno renunciar al hostigamiento y a hacer ruido polÃ­tico. âQue renuncien ellos y que nos dejen trabajarâ, enfatizÃ³.Â âJamÃ¡s voy a renunciar a esta tarea que me ha encomendado el paÃ­s, por el contrario, tengo toda la fortaleza y tranquilidad y seguirÃ© trabajando para dar una respuesta contundente al hambre, a la desigualdad. Voy a corregir todos estos problemas que se han dado por muchos aÃ±os y que otros gobiernos no han querido tocarâ, aseverÃ³.Â AdvirtiÃ³ que hay un sector minoritario que tiene su propia agenda, distinta a la del paÃ­s y a la del Gobierno que llegÃ³ para atender la pandemia, a los trabajadores de salud y a la educaciÃ³n, una labor que el paÃ­s conoce.Â Asimismo, el jefe del Estado rechazÃ³ categÃ³ricamente las imputaciones formuladas por una aspirante a colaboradora eficaz, en el marco de una investigaciÃ³n fiscal. En ese sentido, demandÃ³ que la investigaciÃ³n se realice con contundencia y seriedad para el esclarecimiento de la verdad.Â âDesde acÃ¡ exhorto a la fiscalÃ­a para que la investigaciÃ³n se haga a la brevedad, el PerÃº necesita saber la verdad. Una vez mÃ¡s me someto a las investigaciones mÃ¡s allÃ¡ del ruido polÃ­tico; que no solo empiecen conmigo, sino tambiÃ©n con otras gestiones a las que se les ha venido cuestionandoâ, afirmÃ³.\n",
      "El presidente Castillo formulÃ³ estas declaraciones durante la visita inopinada que realizÃ³ esta noche al Hospital Nacional Arzobispo Loayza, donde verificÃ³ la atenciÃ³n a los pacientes y saludÃ³ el trabajo del personal de salud, asÃ­ como de los tecnÃ³logos mÃ©dicos que conmemoran hoy su dÃ­a.Â \n",
      "1\n",
      "[<h2 class=\"text-5xl mt-4 leading-tight\">Presidente Castillo: jamÃ¡s renunciarÃ© a la tarea que me ha encomendado el paÃ­s y seguirÃ© trabajando con total fortaleza</h2>, <h2 class=\"js-footer-links-toggle mb-4 text-2xl relative flex justify-between items-center text-2xl\" id=\"footer-section-categories-label\">Servicios e informaciÃ³n<svg aria-hidden=\"true\" class=\"md:hidden\" height=\"24\" viewbox=\"0 0 24 24\" width=\"24\" xmlns=\"http://www.w3.org/2000/svg\"><g><g><path d=\"M24 13.714H13.714V24h-3.428V13.714H0v-3.428h10.286V0h3.428v10.286H24z\" fill=\"#fff\"></path></g></g></svg></h2>, <h2 class=\"mb-6 text-2xl sm:mb-4\" id=\"footer-section-estado-peruano\">Sobre el Estado Peruano</h2>, <h2 class=\"text-2xl mb-8\" id=\"footer-section-redes\">Redes Sociales</h2>]\n"
     ]
    }
   ],
   "source": [
    "requests.get(TODOS_los_links[4])\n",
    "sopa_articulo = BeautifulSoup(respuesta_articulo.text)\n",
    "contenido =sopa_articulo.find_all(\"div\",{\"col-md-8 page\"}) \n",
    "# \"col-md-8 page\" selecciona todo el espacio donde se escribe\n",
    "# \"col-md-12\" \n",
    "print(contenido[0].text) # todo el texto con titulo\n",
    "contenido1 =sopa_articulo.find_all(\"h2\") \n",
    "print(len(contenido)) \n",
    "print(contenido1) # h2 de todoooooo en general"
   ]
  },
  {
   "cell_type": "code",
   "execution_count": 17,
   "metadata": {},
   "outputs": [
    {
     "name": "stdout",
     "output_type": "stream",
     "text": [
      "1\n"
     ]
    },
    {
     "data": {
      "text/plain": [
       "'Presidente Castillo: jamÃ¡s renunciarÃ© a la tarea que me ha encomendado el paÃ\\xads y seguirÃ© trabajando con total fortalezaNota de Prensaâ\\x80¢\\tMandatario pidiÃ³ a aquellos sectores que buscan su salida del Gobierno renunciar al hostigamiento y que lo dejen trabajar.Fotos: PRENSAPRENSA27 de febrero de 2022 -  9:47 p. m.'"
      ]
     },
     "execution_count": 17,
     "metadata": {},
     "output_type": "execute_result"
    }
   ],
   "source": [
    "# titulo, subtitulos y fecha\n",
    "requests.get(TODOS_los_links[4])\n",
    "sopa_articulo = BeautifulSoup(respuesta_articulo.text)\n",
    "contenido =sopa_articulo.find_all(\"div\",{\"class\":\"institution-document\"}) \n",
    "titulo = contenido\n",
    "print(len(contenido)) # todo junto\n",
    "contenido[0].text"
   ]
  },
  {
   "cell_type": "code",
   "execution_count": 20,
   "metadata": {},
   "outputs": [
    {
     "data": {
      "text/plain": [
       "{'sub-titulo': 'â\\x80¢\\tMandatario pidiÃ³ a aquellos sectores que buscan su salida del Gobierno renunciar al hostigamiento y que lo dejen trabajar.',\n",
       " 'descripción': 'Â·Â\\xa0 Â\\xa0 Â\\xa0 Â\\xa0 Jefe del Estado demandÃ³ a la fiscalÃ\\xada realizar una investigaciÃ³n objetiva y a la brevedad, porque el paÃ\\xads necesita conocer la verdad.\\nÂ\\xa0\\nLima, 27 de febrero de 2022.- El presidente de la RepÃºblica, Pedro Castillo, asegurÃ³ hoy que jamÃ¡s renunciarÃ¡ a la tarea que le ha encomendado el paÃ\\xads y que, mÃ¡s bien, seguirÃ¡ trabajando con toda la fortaleza para sacar adelante a los peruanos.Â\\xa0El mandatario pidiÃ³ a aquellos sectores minoritarios que impulsan su salida del Gobierno renunciar al hostigamiento y a hacer ruido polÃ\\xadtico. â\\x80\\x9cQue renuncien ellos y que nos dejen trabajarâ\\x80\\x9d, enfatizÃ³.Â\\xa0â\\x80\\x9cJamÃ¡s voy a renunciar a esta tarea que me ha encomendado el paÃ\\xads, por el contrario, tengo toda la fortaleza y tranquilidad y seguirÃ© trabajando para dar una respuesta contundente al hambre, a la desigualdad. Voy a corregir todos estos problemas que se han dado por muchos aÃ±os y que otros gobiernos no han querido tocarâ\\x80\\x9d, aseverÃ³.Â\\xa0AdvirtiÃ³ que hay un sector minoritario que tiene su propia agenda, distinta a la del paÃ\\xads y a la del Gobierno que llegÃ³ para atender la pandemia, a los trabajadores de salud y a la educaciÃ³n, una labor que el paÃ\\xads conoce.Â\\xa0Asimismo, el jefe del Estado rechazÃ³ categÃ³ricamente las imputaciones formuladas por una aspirante a colaboradora eficaz, en el marco de una investigaciÃ³n fiscal. En ese sentido, demandÃ³ que la investigaciÃ³n se realice con contundencia y seriedad para el esclarecimiento de la verdad.Â\\xa0â\\x80\\x9cDesde acÃ¡ exhorto a la fiscalÃ\\xada para que la investigaciÃ³n se haga a la brevedad, el PerÃº necesita saber la verdad. Una vez mÃ¡s me someto a las investigaciones mÃ¡s allÃ¡ del ruido polÃ\\xadtico; que no solo empiecen conmigo, sino tambiÃ©n con otras gestiones a las que se les ha venido cuestionandoâ\\x80\\x9d, afirmÃ³.\\nEl presidente Castillo formulÃ³ estas declaraciones durante la visita inopinada que realizÃ³ esta noche al Hospital Nacional Arzobispo Loayza, donde verificÃ³ la atenciÃ³n a los pacientes y saludÃ³ el trabajo del personal de salud, asÃ\\xad como de los tecnÃ³logos mÃ©dicos que conmemoran hoy su dÃ\\xada.Â\\xa0'}"
      ]
     },
     "execution_count": 20,
     "metadata": {},
     "output_type": "execute_result"
    }
   ],
   "source": [
    "# obtengo sub titulo y descripcion\n",
    "def obtiene_informacion(link):\n",
    "    respuesta_articulo = requests.get(link)\n",
    "    sopa_articulo = BeautifulSoup(respuesta_articulo.text)\n",
    "    contenido =sopa_articulo.find_all(\"div\",{\"class\":\"description\"}) \n",
    "    return {\"sub-titulo\":contenido[0].text,\"descripción\":contenido[1].text}\n",
    "obtiene_informacion(TODOS_los_links[4])"
   ]
  },
  {
   "cell_type": "code",
   "execution_count": 21,
   "metadata": {},
   "outputs": [
    {
     "data": {
      "text/plain": [
       "{'contenido general': 'Presidente Castillo: jamÃ¡s renunciarÃ© a la tarea que me ha encomendado el paÃ\\xads y seguirÃ© trabajando con total fortalezaNota de Prensaâ\\x80¢\\tMandatario pidiÃ³ a aquellos sectores que buscan su salida del Gobierno renunciar al hostigamiento y que lo dejen trabajar.Fotos: PRENSAPRENSA27 de febrero de 2022 -  9:47 p. m.Â·Â\\xa0 Â\\xa0 Â\\xa0 Â\\xa0 Jefe del Estado demandÃ³ a la fiscalÃ\\xada realizar una investigaciÃ³n objetiva y a la brevedad, porque el paÃ\\xads necesita conocer la verdad.\\nÂ\\xa0\\nLima, 27 de febrero de 2022.- El presidente de la RepÃºblica, Pedro Castillo, asegurÃ³ hoy que jamÃ¡s renunciarÃ¡ a la tarea que le ha encomendado el paÃ\\xads y que, mÃ¡s bien, seguirÃ¡ trabajando con toda la fortaleza para sacar adelante a los peruanos.Â\\xa0El mandatario pidiÃ³ a aquellos sectores minoritarios que impulsan su salida del Gobierno renunciar al hostigamiento y a hacer ruido polÃ\\xadtico. â\\x80\\x9cQue renuncien ellos y que nos dejen trabajarâ\\x80\\x9d, enfatizÃ³.Â\\xa0â\\x80\\x9cJamÃ¡s voy a renunciar a esta tarea que me ha encomendado el paÃ\\xads, por el contrario, tengo toda la fortaleza y tranquilidad y seguirÃ© trabajando para dar una respuesta contundente al hambre, a la desigualdad. Voy a corregir todos estos problemas que se han dado por muchos aÃ±os y que otros gobiernos no han querido tocarâ\\x80\\x9d, aseverÃ³.Â\\xa0AdvirtiÃ³ que hay un sector minoritario que tiene su propia agenda, distinta a la del paÃ\\xads y a la del Gobierno que llegÃ³ para atender la pandemia, a los trabajadores de salud y a la educaciÃ³n, una labor que el paÃ\\xads conoce.Â\\xa0Asimismo, el jefe del Estado rechazÃ³ categÃ³ricamente las imputaciones formuladas por una aspirante a colaboradora eficaz, en el marco de una investigaciÃ³n fiscal. En ese sentido, demandÃ³ que la investigaciÃ³n se realice con contundencia y seriedad para el esclarecimiento de la verdad.Â\\xa0â\\x80\\x9cDesde acÃ¡ exhorto a la fiscalÃ\\xada para que la investigaciÃ³n se haga a la brevedad, el PerÃº necesita saber la verdad. Una vez mÃ¡s me someto a las investigaciones mÃ¡s allÃ¡ del ruido polÃ\\xadtico; que no solo empiecen conmigo, sino tambiÃ©n con otras gestiones a las que se les ha venido cuestionandoâ\\x80\\x9d, afirmÃ³.\\nEl presidente Castillo formulÃ³ estas declaraciones durante la visita inopinada que realizÃ³ esta noche al Hospital Nacional Arzobispo Loayza, donde verificÃ³ la atenciÃ³n a los pacientes y saludÃ³ el trabajo del personal de salud, asÃ\\xad como de los tecnÃ³logos mÃ©dicos que conmemoran hoy su dÃ\\xada.Â\\xa0'}"
      ]
     },
     "execution_count": 21,
     "metadata": {},
     "output_type": "execute_result"
    }
   ],
   "source": [
    "# obtengo todo titulo, subtitulo, fecha y descripcion pero todo junto, len = 1\n",
    "def obtiene_informacion(link):\n",
    "    respuesta_articulo = requests.get(link)\n",
    "    sopa_articulo = BeautifulSoup(respuesta_articulo.text)\n",
    "    contenido =sopa_articulo.find_all(\"div\",{\"class\":\"col-md-8 page\"}) \n",
    "    return {\"contenido general\":contenido[0].text}\n",
    "obtiene_informacion(TODOS_los_links[4])"
   ]
  },
  {
   "cell_type": "markdown",
   "metadata": {},
   "source": [
    "### Integrantes:\n",
    "\n",
    "- Huamaní Diestra, Gerardo Manuel 20191304\n",
    "\n",
    "- Yesquen Vasquez, Jean PIerre 20191320"
   ]
  }
 ],
 "metadata": {
  "colab": {
   "name": "PD_API´S.ipynb",
   "provenance": []
  },
  "kernelspec": {
   "display_name": "Python 3 (ipykernel)",
   "language": "python",
   "name": "python3"
  },
  "language_info": {
   "codemirror_mode": {
    "name": "ipython",
    "version": 3
   },
   "file_extension": ".py",
   "mimetype": "text/x-python",
   "name": "python",
   "nbconvert_exporter": "python",
   "pygments_lexer": "ipython3",
   "version": "3.9.7"
  }
 },
 "nbformat": 4,
 "nbformat_minor": 1
}
